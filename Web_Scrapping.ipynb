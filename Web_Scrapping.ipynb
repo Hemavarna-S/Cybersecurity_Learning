{
  "nbformat": 4,
  "nbformat_minor": 0,
  "metadata": {
    "colab": {
      "provenance": [],
      "authorship_tag": "ABX9TyMt45VWB06dXVgRb7gu2CNY",
      "include_colab_link": true
    },
    "kernelspec": {
      "name": "python3",
      "display_name": "Python 3"
    },
    "language_info": {
      "name": "python"
    }
  },
  "cells": [
    {
      "cell_type": "markdown",
      "metadata": {
        "id": "view-in-github",
        "colab_type": "text"
      },
      "source": [
        "<a href=\"https://colab.research.google.com/github/Hemavarna-S/Cybersecurity_Learning/blob/main/Web_Scrapping.ipynb\" target=\"_parent\"><img src=\"https://colab.research.google.com/assets/colab-badge.svg\" alt=\"Open In Colab\"/></a>"
      ]
    },
    {
      "cell_type": "code",
      "execution_count": 1,
      "metadata": {
        "colab": {
          "base_uri": "https://localhost:8080/"
        },
        "id": "SqSYUPjaAfiD",
        "outputId": "1a11990a-c965-4003-e969-87bc59cfef13"
      },
      "outputs": [
        {
          "output_type": "stream",
          "name": "stdout",
          "text": [
            "Requirement already satisfied: beautifulsoup4 in /usr/local/lib/python3.11/dist-packages (4.13.4)\n",
            "Requirement already satisfied: soupsieve>1.2 in /usr/local/lib/python3.11/dist-packages (from beautifulsoup4) (2.7)\n",
            "Requirement already satisfied: typing-extensions>=4.0.0 in /usr/local/lib/python3.11/dist-packages (from beautifulsoup4) (4.14.1)\n"
          ]
        }
      ],
      "source": [
        "pip install beautifulsoup4"
      ]
    },
    {
      "cell_type": "code",
      "source": [
        "from bs4 import BeautifulSoup as bs"
      ],
      "metadata": {
        "id": "EHlMbQftAlqh"
      },
      "execution_count": 2,
      "outputs": []
    },
    {
      "cell_type": "code",
      "source": [
        "import requests\n",
        "import pandas as pd\n",
        "import time\n",
        "import random"
      ],
      "metadata": {
        "id": "YdrNAip1A2oD"
      },
      "execution_count": 3,
      "outputs": []
    },
    {
      "cell_type": "code",
      "source": [
        "BASE_URL = \"http://books.toscrape.com/catalogue/page-{}.html\"\n",
        "HEADERS ={\n",
        "    \"User-Agent\" : \"Mozilla/5.0 (Windows NT 10.0; Win64;x64)\"\n",
        "                  \"AppleWebKit/537.36 (KHTML, Like Gecko)\"\n",
        "                  \"Chrome/114.0.0.0 Safari/537/36\"\n",
        "\n",
        "}"
      ],
      "metadata": {
        "id": "qW1O8nqPBIXT"
      },
      "execution_count": 6,
      "outputs": []
    },
    {
      "cell_type": "code",
      "source": [
        "def covert_rating(rating_text):\n",
        "  ratings = {\n",
        "      \"One\": 1,\n",
        "      \"Two\": 2,\n",
        "      \"Three\": 3,\n",
        "      \"Four\": 4,\n",
        "      \"Five\": 5\n",
        "  }\n",
        "  return ratings.get(rating_text, None)\n",
        ""
      ],
      "metadata": {
        "id": "qQWnsQ3_B0Kv"
      },
      "execution_count": 7,
      "outputs": []
    },
    {
      "cell_type": "code",
      "source": [
        "def fetch_page(page_num):\n",
        "  url = BASE_URL.format(page_num)\n",
        "  print(f\"Fetching:{url}\")\n",
        "  try:\n",
        "    res = requests.get(url)\n",
        "    res.raise_for_status()\n",
        "    soup = bs(res.text,'html.parser')\n",
        "    return soup\n",
        "  except requests.expections.RequestException as e:\n",
        "   print(f\"Failed to fetch {url}:{e}\")\n",
        "  return None\n"
      ],
      "metadata": {
        "id": "boZwdFXqDKXk"
      },
      "execution_count": 10,
      "outputs": []
    },
    {
      "cell_type": "code",
      "source": [],
      "metadata": {
        "id": "BIBGPTJMEdFk"
      },
      "execution_count": null,
      "outputs": []
    }
  ]
}